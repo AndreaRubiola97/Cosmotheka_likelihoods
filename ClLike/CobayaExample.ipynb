{
 "cells": [
  {
   "cell_type": "code",
   "execution_count": 1,
   "id": "a45b5757",
   "metadata": {},
   "outputs": [],
   "source": [
    "from cobaya.model import get_model\n",
    "from cobaya.run import run\n",
    "import yaml\n",
    "import os\n",
    "import numpy as np"
   ]
  },
  {
   "cell_type": "code",
   "execution_count": 2,
   "id": "d09e998c",
   "metadata": {},
   "outputs": [],
   "source": [
    "config_fn = \"test.yaml\"\n",
    "with open(config_fn, \"r\") as fin:\n",
    "    info = yaml.load(fin, Loader=yaml.FullLoader)\n",
    "\n",
    "# Uncomment this if you want more verbose messages\n",
    "#info['debug'] = True\n",
    "\n",
    "# Force cobaya to use the minimizer\n",
    "info['sampler'] = {'minimize': {'ignore_prior': True, 'max_evals': 1000}}"
   ]
  },
  {
   "cell_type": "code",
   "execution_count": 3,
   "id": "01858de2",
   "metadata": {},
   "outputs": [],
   "source": [
    "# Get the mean proposed in the yaml file for each parameter\n",
    "p0 = {}\n",
    "for p in info['params']:\n",
    "     if isinstance(info['params'][p], dict):\n",
    "        if 'ref' in info['params'][p]:\n",
    "            p0[p] = info['params'][p]['ref']['loc']\n",
    "os.system('mkdir -p ' + info['output'])\n",
    "print(\"params_dict = \", p0)"
   ]
  },
  {
   "cell_type": "code",
   "execution_count": null,
   "id": "0ee6af1f",
   "metadata": {},
   "outputs": [],
   "source": [
    "# Initialize model (ignore the tensorflow-related warnings below)\n",
    "model = get_model(info)"
   ]
  },
  {
   "cell_type": "code",
   "execution_count": null,
   "id": "87e7d631",
   "metadata": {},
   "outputs": [],
   "source": [
    "# Calculate chi2 for input params\n",
    "chi2 = -2*model.loglikes(p0)[0][0]\n",
    "print(\"chi2 = \", chi2)"
   ]
  },
  {
   "cell_type": "code",
   "execution_count": null,
   "id": "edaff4cc",
   "metadata": {},
   "outputs": [],
   "source": [
    "# Now run minimizer and show best-fit parameters\n",
    "updated_info, sampler = run(info, force=True)\n",
    "bf = sampler.products()['minimum'].bestfit()\n",
    "pf = {k: bf[k] for k in p0.keys()}\n",
    "print(\"Final params: \")\n",
    "print(pf)\n",
    "# Calculate chi2 for BF params\n",
    "chi2 = -2*model.loglikes(pf)[0][0]\n",
    "print(\"chi2 = \", chi2)"
   ]
  },
  {
   "cell_type": "code",
   "execution_count": null,
   "id": "16419eb3",
   "metadata": {},
   "outputs": [],
   "source": []
  },
  {
   "cell_type": "code",
   "execution_count": null,
   "id": "a2d69665",
   "metadata": {},
   "outputs": [],
   "source": []
  }
 ],
 "metadata": {
  "kernelspec": {
   "display_name": "Python 3 (ipykernel)",
   "language": "python",
   "name": "python3"
  },
  "language_info": {
   "codemirror_mode": {
    "name": "ipython",
    "version": 3
   },
   "file_extension": ".py",
   "mimetype": "text/x-python",
   "name": "python",
   "nbconvert_exporter": "python",
   "pygments_lexer": "ipython3",
   "version": "3.10.6"
  }
 },
 "nbformat": 4,
 "nbformat_minor": 5
}
