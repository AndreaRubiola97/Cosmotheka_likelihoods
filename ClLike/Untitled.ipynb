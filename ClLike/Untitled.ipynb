{
 "cells": [
  {
   "cell_type": "code",
   "execution_count": 1,
   "id": "218652b7-42ca-4373-9443-81ab0817a946",
   "metadata": {},
   "outputs": [],
   "source": [
    "from cobaya.model import get_model\n",
    "from cobaya.run import run\n",
    "import yaml\n",
    "import os\n",
    "\n",
    "import numpy as np"
   ]
  },
  {
   "cell_type": "code",
   "execution_count": 2,
   "id": "869fd12f-d9b7-4a9f-9f84-7e5f8817f0b3",
   "metadata": {},
   "outputs": [],
   "source": [
    "# Read in the yaml file\n",
    "config_fn = 'test_wisc.yaml'\n",
    "with open(config_fn, \"r\") as fin:\n",
    "    info = yaml.load(fin, Loader=yaml.FullLoader)\n"
   ]
  },
  {
   "cell_type": "code",
   "execution_count": 3,
   "id": "16ac91cc-c241-41c7-85cf-aacd1d6024f4",
   "metadata": {},
   "outputs": [
    {
     "name": "stderr",
     "output_type": "stream",
     "text": [
      "2024-06-24 17:17:34.264964: I tensorflow/core/util/port.cc:110] oneDNN custom operations are on. You may see slightly different numerical results due to floating-point round-off errors from different computation orders. To turn them off, set the environment variable `TF_ENABLE_ONEDNN_OPTS=0`.\n",
      "2024-06-24 17:17:34.266513: I tensorflow/tsl/cuda/cudart_stub.cc:28] Could not find cuda drivers on your machine, GPU will not be used.\n",
      "2024-06-24 17:17:34.296316: I tensorflow/tsl/cuda/cudart_stub.cc:28] Could not find cuda drivers on your machine, GPU will not be used.\n",
      "2024-06-24 17:17:34.297027: I tensorflow/core/platform/cpu_feature_guard.cc:182] This TensorFlow binary is optimized to use available CPU instructions in performance-critical operations.\n",
      "To enable the following instructions: AVX2 AVX_VNNI FMA, in other operations, rebuild TensorFlow with the appropriate compiler flags.\n",
      "2024-06-24 17:17:34.830331: W tensorflow/compiler/tf2tensorrt/utils/py_utils.cc:38] TF-TRT Warning: Could not find TensorRT\n"
     ]
    },
    {
     "name": "stdout",
     "output_type": "stream",
     "text": [
      "[model] *WARNING* Ignored blocks/options: ['force', 'sampler', 'output']\n",
      "Loading l-bias lpt emulator...\n",
      "[absl] Fingerprint not found. Saved model loading will continue.\n",
      "[absl] Fingerprint not found. Saved model loading will continue.\n",
      "[absl] Fingerprint not found. Saved model loading will continue.\n",
      "[absl] Fingerprint not found. Saved model loading will continue.\n",
      "[absl] Fingerprint not found. Saved model loading will continue.\n",
      "[absl] Fingerprint not found. Saved model loading will continue.\n",
      "[absl] Fingerprint not found. Saved model loading will continue.\n",
      "[absl] Fingerprint not found. Saved model loading will continue.\n",
      "[absl] Fingerprint not found. Saved model loading will continue.\n",
      "[absl] Fingerprint not found. Saved model loading will continue.\n",
      "[absl] Fingerprint not found. Saved model loading will continue.\n",
      "[absl] Fingerprint not found. Saved model loading will continue.\n",
      "[absl] Fingerprint not found. Saved model loading will continue.\n",
      "[absl] Fingerprint not found. Saved model loading will continue.\n",
      "[absl] Fingerprint not found. Saved model loading will continue.\n",
      "L-bias lpt emulator loaded in memory.\n",
      "Loading smeared bao emulator...\n",
      "[absl] Fingerprint not found. Saved model loading will continue.\n",
      "Smeared bao emulator loaded in memory.\n",
      "Loading non-linear l-bias emulator...\n",
      "[absl] Fingerprint not found. Saved model loading will continue.\n",
      "[absl] Fingerprint not found. Saved model loading will continue.\n",
      "[absl] Fingerprint not found. Saved model loading will continue.\n",
      "[absl] Fingerprint not found. Saved model loading will continue.\n",
      "[absl] Fingerprint not found. Saved model loading will continue.\n",
      "[absl] Fingerprint not found. Saved model loading will continue.\n",
      "[absl] Fingerprint not found. Saved model loading will continue.\n",
      "[absl] Fingerprint not found. Saved model loading will continue.\n",
      "[absl] Fingerprint not found. Saved model loading will continue.\n",
      "[absl] Fingerprint not found. Saved model loading will continue.\n",
      "[absl] Fingerprint not found. Saved model loading will continue.\n",
      "[absl] Fingerprint not found. Saved model loading will continue.\n",
      "[absl] Fingerprint not found. Saved model loading will continue.\n",
      "[absl] Fingerprint not found. Saved model loading will continue.\n",
      "[absl] Fingerprint not found. Saved model loading will continue.\n",
      "Nonlinear l-bias emulator loaded in memory.\n",
      "Loading sigma8 emulator...\n",
      "[absl] Fingerprint not found. Saved model loading will continue.\n",
      "Sigma8 emulator loaded in memory.\n",
      "Loading no-wiggles emulator...\n",
      "[absl] Fingerprint not found. Saved model loading will continue.\n",
      "No-wiggles emulator loaded in memory.\n",
      "Loading sigma8 emulator...\n",
      "[absl] Fingerprint not found. Saved model loading will continue.\n",
      "Sigma8 emulator loaded in memory.\n",
      "Loading linear emulator...\n",
      "[absl] Fingerprint not found. Saved model loading will continue.\n",
      "[absl] Fingerprint not found. Saved model loading will continue.\n",
      "Linear emulator loaded in memory.\n",
      "Loading no-wiggles emulator...\n",
      "[absl] Fingerprint not found. Saved model loading will continue.\n",
      "No-wiggles emulator loaded in memory.\n",
      "Loading non-linear emulator...\n",
      "[absl] Fingerprint not found. Saved model loading will continue.\n",
      "Nonlinear emulator loaded in memory.\n",
      "Loading Baryonic Emulator...\n",
      "[absl] Fingerprint not found. Saved model loading will continue.\n",
      "Baryonic Emulator loaded in memory.\n"
     ]
    }
   ],
   "source": [
    "model = get_model(info)"
   ]
  },
  {
   "cell_type": "code",
   "execution_count": 4,
   "id": "d44631a1-d2c3-4b1a-88cf-c182b0e054d4",
   "metadata": {},
   "outputs": [],
   "source": [
    "p0 = {}\n",
    "for p in info['params']:\n",
    "     if isinstance(info['params'][p], dict):\n",
    "         if 'ref' in info['params'][p]:\n",
    "             p0[p] = info['params'][p]['ref']['loc']\n",
    "#os.system('mkdir -p ' + info['output'])"
   ]
  },
  {
   "cell_type": "code",
   "execution_count": 5,
   "id": "a755f8e1-cc80-4b4d-a8f9-b8f30cd546f5",
   "metadata": {},
   "outputs": [
    {
     "data": {
      "text/plain": [
       "{}"
      ]
     },
     "execution_count": 5,
     "metadata": {},
     "output_type": "execute_result"
    }
   ],
   "source": [
    "p0"
   ]
  },
  {
   "cell_type": "code",
   "execution_count": 6,
   "id": "8d8410d0-04c6-4579-82a5-5d8f573a0f38",
   "metadata": {},
   "outputs": [
    {
     "name": "stdout",
     "output_type": "stream",
     "text": [
      "['cll_LOWZ__2_b1', 'cll_LOWZ__2_b2', 'cll_LOWZ__2_bs', 'cll_LOWZ__2_bk2']\n",
      "chi2 =  351.7839303633905\n"
     ]
    },
    {
     "name": "stderr",
     "output_type": "stream",
     "text": [
      "WARNING 18: ccl_cls.c: integ_cls_limber_qag_quad(): Default GSL integration failure, attempting backup method.: GSL ERROR: roundoff error\n"
     ]
    }
   ],
   "source": [
    "loglikes, derived = model.loglikes(p0)\n",
    "print(\"chi2 = \", -2 * loglikes[0])"
   ]
  },
  {
   "cell_type": "code",
   "execution_count": 7,
   "id": "b38bed8e-d650-4654-af7d-9da3b3ce8fde",
   "metadata": {},
   "outputs": [],
   "source": [
    "like = model.likelihood['cl_like.ClLikeB']"
   ]
  },
  {
   "cell_type": "code",
   "execution_count": 8,
   "id": "0b6164e0-2c93-4c43-8d08-5d7d8395351a",
   "metadata": {},
   "outputs": [
    {
     "ename": "AttributeError",
     "evalue": "",
     "output_type": "error",
     "traceback": [
      "\u001b[0;31m---------------------------------------------------------------------------\u001b[0m",
      "\u001b[0;31mKeyError\u001b[0m                                  Traceback (most recent call last)",
      "File \u001b[0;32m~/miniconda3/envs/maicon/lib/python3.11/site-packages/cobaya/theory.py:444\u001b[0m, in \u001b[0;36mProvider.__getattr__\u001b[0;34m(self, name)\u001b[0m\n\u001b[1;32m    443\u001b[0m \u001b[38;5;28;01mtry\u001b[39;00m:\n\u001b[0;32m--> 444\u001b[0m     \u001b[38;5;28;01mreturn\u001b[39;00m \u001b[38;5;28mgetattr\u001b[39m(\u001b[38;5;28;43mself\u001b[39;49m\u001b[38;5;241;43m.\u001b[39;49m\u001b[43mrequirement_providers\u001b[49m\u001b[43m[\u001b[49m\u001b[43mrequirement\u001b[49m\u001b[43m]\u001b[49m, name)\n\u001b[1;32m    445\u001b[0m \u001b[38;5;28;01mexcept\u001b[39;00m \u001b[38;5;167;01mKeyError\u001b[39;00m:  \u001b[38;5;66;03m# requirement not listed (parameter or result)\u001b[39;00m\n",
      "\u001b[0;31mKeyError\u001b[0m: ''",
      "\nDuring handling of the above exception, another exception occurred:\n",
      "\u001b[0;31mAttributeError\u001b[0m                            Traceback (most recent call last)",
      "Cell \u001b[0;32mIn[8], line 1\u001b[0m\n\u001b[0;32m----> 1\u001b[0m \u001b[43mlike\u001b[49m\u001b[38;5;241;43m.\u001b[39;49m\u001b[43mprovider\u001b[49m\u001b[38;5;241;43m.\u001b[39;49m\u001b[43mget_\u001b[49m\n",
      "File \u001b[0;32m~/miniconda3/envs/maicon/lib/python3.11/site-packages/cobaya/theory.py:446\u001b[0m, in \u001b[0;36mProvider.__getattr__\u001b[0;34m(self, name)\u001b[0m\n\u001b[1;32m    444\u001b[0m         \u001b[38;5;28;01mreturn\u001b[39;00m \u001b[38;5;28mgetattr\u001b[39m(\u001b[38;5;28mself\u001b[39m\u001b[38;5;241m.\u001b[39mrequirement_providers[requirement], name)\n\u001b[1;32m    445\u001b[0m     \u001b[38;5;28;01mexcept\u001b[39;00m \u001b[38;5;167;01mKeyError\u001b[39;00m:  \u001b[38;5;66;03m# requirement not listed (parameter or result)\u001b[39;00m\n\u001b[0;32m--> 446\u001b[0m         \u001b[38;5;28;01mraise\u001b[39;00m \u001b[38;5;167;01mAttributeError\u001b[39;00m\n\u001b[1;32m    447\u001b[0m \u001b[38;5;28;01mreturn\u001b[39;00m \u001b[38;5;28mobject\u001b[39m\u001b[38;5;241m.\u001b[39m\u001b[38;5;21m__getattribute__\u001b[39m(\u001b[38;5;28mself\u001b[39m, name)\n",
      "\u001b[0;31mAttributeError\u001b[0m: "
     ]
    }
   ],
   "source": [
    "like.provider.get_"
   ]
  },
  {
   "cell_type": "code",
   "execution_count": null,
   "id": "a98c7031-56fe-4e85-9c80-fd58264688bc",
   "metadata": {},
   "outputs": [],
   "source": []
  }
 ],
 "metadata": {
  "kernelspec": {
   "display_name": "Python 3 (ipykernel)",
   "language": "python",
   "name": "python3"
  },
  "language_info": {
   "codemirror_mode": {
    "name": "ipython",
    "version": 3
   },
   "file_extension": ".py",
   "mimetype": "text/x-python",
   "name": "python",
   "nbconvert_exporter": "python",
   "pygments_lexer": "ipython3",
   "version": "3.11.4"
  }
 },
 "nbformat": 4,
 "nbformat_minor": 5
}
