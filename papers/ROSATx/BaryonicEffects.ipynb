{
 "cells": [
  {
   "cell_type": "code",
   "execution_count": 1,
   "id": "1b109dff",
   "metadata": {},
   "outputs": [],
   "source": [
    "import numpy as np\n",
    "import rosatX as rx\n",
    "import pyccl as ccl\n",
    "import matplotlib.pyplot as plt\n",
    "from matplotlib import rc\n",
    "\n",
    "from getdist import loadMCSamples\n",
    "\n",
    "rc(\"font\", **{\"family\": \"sans-serif\", \"sans-serif\": [\"Helvetica\"]})\n",
    "rc(\"text\", usetex=True)"
   ]
  },
  {
   "cell_type": "markdown",
   "id": "5c5e40fe",
   "metadata": {},
   "source": [
    "### Code to calculate baryonic boost factor"
   ]
  },
  {
   "cell_type": "code",
   "execution_count": 2,
   "id": "1a5e9e81",
   "metadata": {},
   "outputs": [],
   "source": [
    "COSMO_P18 = {\"Omega_c\": 0.26066676,\n",
    "             \"Omega_b\": 0.048974682,\n",
    "             \"h\": 0.6766,\n",
    "             \"n_s\": 0.9665,\n",
    "             \"sigma8\": 0.8102,\n",
    "             \"matter_power_spectrum\": \"halofit\"}\n",
    "\n",
    "cosmo = ccl.Cosmology(**COSMO_P18)\n",
    "mdef = ccl.halos.MassDef200c\n",
    "cM = ccl.halos.ConcentrationDuffy08(mass_def=mdef)\n",
    "nM = ccl.halos.MassFuncTinker08(mass_def=mdef)\n",
    "bM = ccl.halos.HaloBiasTinker10(mass_def=mdef)\n",
    "hmc = ccl.halos.HMCalculator(mass_function=nM,\n",
    "                             halo_bias=bM,\n",
    "                             mass_def=mdef,\n",
    "                             log10M_max=15., log10M_min=10, nM=32)\n",
    "\n",
    "prof_dmo = ccl.halos.HaloProfileNFW(mass_def=mdef,\n",
    "                                    concentration=cM)\n",
    "\n",
    "k_arr = np.geomspace(1e-4, 1e2, 256)\n",
    "lk_arr = np.log(k_arr)\n",
    "a_arr = np.linspace(0.3, 1, 8)\n",
    "\n",
    "pk_dmo = ccl.halos.halomod_Pk2D(cosmo, hmc,\n",
    "                                prof_dmo,\n",
    "                                lk_arr=lk_arr,\n",
    "                                a_arr=a_arr)\n",
    "\n",
    "\n",
    "def get_pk_ratio(ks, zs, **kwargs):\n",
    "    prof_bar = rx.HaloProfileNFWBaryon(mass_def=mdef,\n",
    "                                       concentration=cM,\n",
    "                                       **kwargs)\n",
    "    pk_bar = ccl.halos.halomod_Pk2D(cosmo, hmc,\n",
    "                                    prof_bar,\n",
    "                                    lk_arr=lk_arr,\n",
    "                                    a_arr=a_arr)\n",
    "    ratio = np.array([pk_bar(ks, a) / pk_dmo(ks, a) for a in 1 / (1 + zs)])\n",
    "    return ratio"
   ]
  },
  {
   "cell_type": "markdown",
   "id": "e0c7de31",
   "metadata": {},
   "source": [
    "### $k$ and $z$ sampling"
   ]
  },
  {
   "cell_type": "code",
   "execution_count": null,
   "id": "d8f18226",
   "metadata": {},
   "outputs": [],
   "source": [
    "ks = np.geomspace(1e-2, 20, 256)\n",
    "zs = np.array([0, 1])"
   ]
  },
  {
   "cell_type": "markdown",
   "id": "c798549f",
   "metadata": {},
   "source": [
    "### Calculate for logTAGN chains"
   ]
  },
  {
   "cell_type": "code",
   "execution_count": null,
   "id": "954dc04a",
   "metadata": {},
   "outputs": [],
   "source": [
    "BAHAMAS = np.load(\"data/constraints_1d.npz\")\n",
    "probs = np.exp(-0.5 * (BAHAMAS[\"chi2\"][:, -1]\n",
    "                       - np.amin(BAHAMAS[\"chi2\"][:, -1])))\n",
    "\n",
    "# Reduce the number of points to evaluate\n",
    "pgood = probs > 1e-3\n",
    "probs = probs[pgood]\n",
    "ratios = np.array([get_pk_ratio(ks, zs, logTAGN=lT)\n",
    "                   for lT in BAHAMAS[\"logTAGN\"][pgood]])\n",
    "\n",
    "# Calculate mean and standard deviation\n",
    "pnorm = np.sum(probs)\n",
    "ratio_mean_lT = np.sum(probs[:, None, None] * ratios, axis=0) / pnorm\n",
    "ratio_std_lT = np.sqrt(np.sum(probs[:, None, None] * ratios**2, axis=0)\n",
    "                       / pnorm - ratio_mean_lT**2)"
   ]
  },
  {
   "cell_type": "markdown",
   "id": "5d45fe24",
   "metadata": {},
   "source": [
    "### Calculate for 4-param model chains"
   ]
  },
  {
   "cell_type": "code",
   "execution_count": null,
   "id": "b4a70849",
   "metadata": {},
   "outputs": [],
   "source": [
    "chains_all = loadMCSamples(\"chains_cobaya/chain_cobaya_all\",\n",
    "                           settings={\"ignore_rows\": 0.2})\n",
    "\n",
    "# Thin by a factor 20\n",
    "thin_factor = 20\n",
    "weights = chains_all[\"weight\"][::thin_factor]\n",
    "ratios = []\n",
    "\n",
    "for lMc, gamma, eta_b in zip(chains_all[\"lMc\"][::thin_factor],\n",
    "                             chains_all[\"gamma\"][::thin_factor],\n",
    "                             chains_all[\"eta_b\"][::thin_factor]):\n",
    "    ratios.append(get_pk_ratio(ks, zs, lMc=lMc, gamma=gamma, eta_b=eta_b))\n",
    "ratios = np.array(ratios)\n",
    "\n",
    "# Calculate mean and standard deviation\n",
    "ratio_mean_chains = np.sum(ratios * weights[:, None, None], axis=0)\\\n",
    "                    / np.sum(weights)\n",
    "ratio_std_chains = np.sqrt(np.sum((ratios - ratio_mean_chains[None, :, :])\n",
    "                                  ** 2 * weights[:, None, None], axis=0)\n",
    "                           / np.sum(weights))"
   ]
  },
  {
   "cell_type": "markdown",
   "id": "381659b2",
   "metadata": {},
   "source": [
    "### Calculate for Amon & Efstathiou model"
   ]
  },
  {
   "cell_type": "code",
   "execution_count": null,
   "id": "57130431",
   "metadata": {},
   "outputs": [],
   "source": [
    "def get_ratio_AE(ks, zs, Amod):\n",
    "    pl = np.array([cosmo.linear_matter_power(ks, a) for a in 1 / (1 + zs)])\n",
    "    pnl = np.array([cosmo.nonlin_matter_power(ks, a) for a in 1 / (1 + zs)])\n",
    "    ratio = Amod + pl / pnl * (1 - Amod)\n",
    "    return ratio\n",
    "\n",
    "\n",
    "# Gaussian posterior on A_mod (see Eq. 7 of 2206.11794)\n",
    "\n",
    "# KiDS\n",
    "Amods = np.linspace(0.3, 1.2, 256)\n",
    "pAmods = np.exp(-0.5 * ((Amods - 0.748) / 0.072) ** 2)\n",
    "ratios = np.array([get_ratio_AE(ks, zs, Amod) for Amod in Amods])\n",
    "pnorm = np.sum(pAmods)\n",
    "\n",
    "ratio_mean_KiDS = np.sum(pAmods[:, None, None] * ratios, axis=0)\\\n",
    "                  / pnorm\n",
    "ratio_std_KiDS = np.sqrt(np.sum(pAmods[:, None, None] * ratios**2, axis=0)\n",
    "                         / pnorm - ratio_mean_KiDS**2)\n",
    "\n",
    "\n",
    "# DES\n",
    "pAmods = np.exp(-0.5 * ((Amods - 0.858) / 0.052) ** 2)\n",
    "ratios = np.array([get_ratio_AE(ks, zs, Amod) for Amod in Amods])\n",
    "pnorm = np.sum(pAmods)\n",
    "\n",
    "ratio_mean_DES = np.sum(pAmods[:, None, None] * ratios, axis=0)\\\n",
    "                 / pnorm\n",
    "ratio_std_DES = np.sqrt(np.sum(pAmods[:, None, None] * ratios**2, axis=0)\n",
    "                        / pnorm - ratio_mean_DES**2)"
   ]
  },
  {
   "cell_type": "markdown",
   "id": "81cfe306",
   "metadata": {},
   "source": [
    "### Read sim data"
   ]
  },
  {
   "cell_type": "code",
   "execution_count": null,
   "id": "216174f4",
   "metadata": {},
   "outputs": [],
   "source": [
    "pkdat = {\"BAHAMAS-7.6\":\n",
    "         (\"BAHAMAS $T_{\\\\rm heat}7.6$\",\n",
    "          \"pk_data/powtable_BAHAMAS_Theat7.6_nu0_WMAP9.dat\",\n",
    "          \"pk_data/powtable_DMONLY_2fluid_nu0_WMAP9_L400N1024.dat\"),\n",
    "\n",
    "         \"BAHAMAS-8.0\":\n",
    "         (\"BAHAMAS $T_{\\\\rm heat}8.0$\",\n",
    "          \"pk_data/powtable_BAHAMAS_Theat8.0_nu0_WMAP9.dat\",\n",
    "          \"pk_data/powtable_DMONLY_2fluid_nu0_WMAP9_L400N1024.dat\"),\n",
    "\n",
    "         \"COSMO-OWLS\":\n",
    "         (\"C-OWLS $T_{\\\\rm heat}8.7$\",\n",
    "          \"pk_data/powtable_C-OWLS_AGN_Mseed800_Theat8.7_WMAP7_L100N512.dat\",\n",
    "          \"pk_data/powtable_DMONLY_WMAP7_L100N512.dat\")}\n",
    "\n",
    "\n",
    "def parse_pkdat(data, z=0):\n",
    "    zz, kb, pkb, _ = np.loadtxt(data[1], unpack=True)\n",
    "    good = zz == z\n",
    "    kb = kb[good]\n",
    "    pkb = pkb[good]\n",
    "    zz, kd, pkd, _ = np.loadtxt(data[2], unpack=True)\n",
    "    good = zz == z\n",
    "    kd = kd[good]\n",
    "    pkd = pkd[good]\n",
    "    return data[0], kd, pkb / pkd"
   ]
  },
  {
   "cell_type": "markdown",
   "id": "b35575c9",
   "metadata": {},
   "source": [
    "### Plot everything"
   ]
  },
  {
   "cell_type": "code",
   "execution_count": null,
   "id": "97e7c57c",
   "metadata": {},
   "outputs": [],
   "source": [
    "plt.figure(figsize=(6, 4))\n",
    "for sim, ls in zip([\"BAHAMAS-7.6\",\n",
    "                    \"BAHAMAS-8.0\",\n",
    "                    \"COSMO-OWLS\"],\n",
    "                   [\"-\", \"--\", \"-.\"]):\n",
    "    nm, k, r = parse_pkdat(pkdat[sim])\n",
    "    plt.plot(k * cosmo[\"h\"], r, ls, c=\"black\", label=nm)\n",
    "plt.fill_between(ks,\n",
    "                 ratio_mean_KiDS[0] - ratio_std_KiDS[0],\n",
    "                 ratio_mean_KiDS[0] + ratio_std_KiDS[0],\n",
    "                 facecolor=\"#FFAA00\", edgecolor=\"#AA5500\", alpha=0.4,\n",
    "                 label=\"PAE23 (KiDS)\")\n",
    "plt.fill_between(ks,\n",
    "                 ratio_mean_DES[0] - ratio_std_DES[0],\n",
    "                 ratio_mean_DES[0] + ratio_std_DES[0],\n",
    "                 facecolor=\"#5555FF\", edgecolor=\"b\", alpha=0.4,\n",
    "                 label=\"PAE23 (DES-Y3)\")\n",
    "plt.fill_between(ks,\n",
    "                 ratio_mean_chains[0] - ratio_std_chains[0],\n",
    "                 ratio_mean_chains[0] + ratio_std_chains[0],\n",
    "                 facecolor=\"#FFAAAA\", edgecolor=\"r\",\n",
    "                 label=\"ROSAT x DES\")\n",
    "plt.xscale(\"log\")\n",
    "plt.xlim([0.07, 10.0])\n",
    "plt.ylim([0.65, 1.12])\n",
    "plt.legend(frameon=False,\n",
    "           fontsize=12,\n",
    "           ncol=2,\n",
    "           labelspacing=0.1,\n",
    "           loc=\"upper left\")\n",
    "plt.xlabel(r\"$k\\,\\,[{\\rm Mpc}^{-1}]$\", fontsize=16)\n",
    "plt.ylabel(r\"$P_m(k)/P_{\\rm DMO}(k)\\,\\,\\,(z=0)$\", fontsize=16)\n",
    "plt.tick_params(axis=\"both\", labelsize=13)\n",
    "\n",
    "plt.savefig(\"plots/baryon_boost.pdf\", bbox_inches=\"tight\")"
   ]
  },
  {
   "cell_type": "code",
   "execution_count": null,
   "id": "b96ab653",
   "metadata": {},
   "outputs": [],
   "source": []
  }
 ],
 "metadata": {
  "kernelspec": {
   "display_name": "Python 3 (ipykernel)",
   "language": "python",
   "name": "python3"
  },
  "language_info": {
   "codemirror_mode": {
    "name": "ipython",
    "version": 3
   },
   "file_extension": ".py",
   "mimetype": "text/x-python",
   "name": "python",
   "nbconvert_exporter": "python",
   "pygments_lexer": "ipython3",
   "version": "3.10.4"
  }
 },
 "nbformat": 4,
 "nbformat_minor": 5
}
