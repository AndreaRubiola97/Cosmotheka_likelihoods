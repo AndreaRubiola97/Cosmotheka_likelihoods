{
 "cells": [
  {
   "cell_type": "code",
   "execution_count": 25,
   "id": "f81392a5",
   "metadata": {},
   "outputs": [],
   "source": [
    "import sacc\n",
    "import numpy as np\n",
    "import pyccl as ccl\n",
    "import rosatX as rx\n",
    "import pyatomdb\n",
    "from astropy.io import fits\n",
    "import matplotlib.pyplot as plt\n",
    "from matplotlib import rc\n",
    "rc('font', **{'family': 'sans-serif', 'sans-serif': ['Helvetica']})\n",
    "rc('text', usetex=True)"
   ]
  },
  {
   "cell_type": "markdown",
   "id": "3a639dca",
   "metadata": {},
   "source": [
    "## Loading the data"
   ]
  },
  {
   "cell_type": "code",
   "execution_count": 26,
   "id": "70d9b6dd",
   "metadata": {},
   "outputs": [],
   "source": [
    "rmf = fits.open('data/pspcb_gain2_256.rmf')\n",
    "arf = fits.open('data/pspcb_gain2_256.arf')\n",
    "cls_cov = sacc.Sacc.load_fits('data/cls_cov_y3.fits')\n",
    "\n",
    "ROSAT, DESY3wl__3, cov = cls_cov.get_ell_cl('cl_0e','ROSAT', 'DESY3wl__3', return_cov=True)\n",
    "err = np.sqrt(np.diagonal(cov))"
   ]
  },
  {
   "cell_type": "markdown",
   "id": "4b32fae5",
   "metadata": {},
   "source": [
    "## Initialising defaults and tracers"
   ]
  },
  {
   "cell_type": "code",
   "execution_count": 27,
   "id": "914b99e6",
   "metadata": {},
   "outputs": [],
   "source": [
    "COSMO_P18 = {\"Omega_c\": 0.26066676,\n",
    "             \"Omega_b\": 0.048974682,\n",
    "             \"h\": 0.6766,\n",
    "             \"n_s\": 0.9665,\n",
    "             \"sigma8\": 0.8102,\n",
    "             \"matter_power_spectrum\": \"linear\"}\n",
    "\n",
    "cosmo = ccl.Cosmology(**COSMO_P18)\n",
    "mdef = ccl.halos.MassDef200c\n",
    "cM = ccl.halos.ConcentrationDuffy08(mass_def=mdef)\n",
    "\n",
    "dmat = ccl.halos.HaloProfileNFW(mass_def=mdef, concentration=cM)\n",
    "\n",
    "nM = ccl.halos.MassFuncTinker08(mass_def=mdef)\n",
    "bM = ccl.halos.HaloBiasTinker10(mass_def=mdef)\n",
    "hmc = ccl.halos.HMCalculator(mass_function=nM,\n",
    "                             halo_bias=bM,\n",
    "                             mass_def=mdef,\n",
    "                             log10M_max=15., log10M_min=10, nM=32)\n",
    "\n",
    "# X-ray tracer\n",
    "tx = rx.XrayTracer(cosmo)\n",
    "\n",
    "zs = cls_cov.tracers['DESY3wl__3'].z\n",
    "nz = cls_cov.tracers['DESY3wl__3'].nz\n",
    "\n",
    "# gamma tracer\n",
    "ts = ccl.WeakLensingTracer(cosmo, dndz=(zs, nz))"
   ]
  },
  {
   "cell_type": "markdown",
   "id": "8a499687",
   "metadata": {},
   "source": [
    "### Correcting for the smoothing"
   ]
  },
  {
   "cell_type": "code",
   "execution_count": 28,
   "id": "184285c1",
   "metadata": {},
   "outputs": [],
   "source": [
    "def pixel_FWHM(nside):\n",
    "    \"\"\"\n",
    "    Returns the FWHM of the HEALPix pixel with nside = nside\n",
    "    \"\"\"\n",
    "    fwhm_hp_amin =  60 * 41.7 / nside\n",
    "    return np.radians(fwhm_hp_amin/60)/2.355\n",
    "\n",
    "sigma_ROSAT = np.radians(1.8e0/60)/2.355\n",
    "sigma_HEALPix = pixel_FWHM(1024)\n",
    "\n",
    "sigma_tot_2 = sigma_ROSAT**2 + 2*sigma_HEALPix**2\n",
    "\n",
    "def cl_smoothing_factor(ell):\n",
    "    return np.exp(-0.5*sigma_tot_2*ell*(1+ell))"
   ]
  },
  {
   "cell_type": "markdown",
   "id": "2687117d",
   "metadata": {},
   "source": [
    "## Calculating the X-ray Spectrum"
   ]
  },
  {
   "cell_type": "code",
   "execution_count": 29,
   "id": "4ec45282",
   "metadata": {},
   "outputs": [],
   "source": [
    "kTmin = 0.02\n",
    "kTmax = 50.0\n",
    "nkT = 32\n",
    "zmax = 4.0\n",
    "nz = 16\n",
    "emin = 0.5\n",
    "emax = 2.0\n",
    "\n",
    "Zmetal = 0.3\n",
    "Zs = np.ones(31)\n",
    "Zs[3:] = Zmetal\n",
    "\n",
    "rosat_spectrum = pyatomdb.spectrum.CIESession()\n",
    "rosat_spectrum.set_response(rmf, arf)\n",
    "rosat_spectrum.set_abund(np.arange(31, dtype=int), Zs)\n",
    "\n",
    "J_tot = rosat_spectrum.return_integrated_spectrum_interp(kTmin, kTmax,\n",
    "                                                         nkT, zmax, nz,\n",
    "                                                         emin, emax)\n",
    "\n",
    "J_cont = rosat_spectrum.return_integrated_spectrum_interp(kTmin, kTmax,\n",
    "                                                          nkT, zmax, nz,\n",
    "                                                          emin, emax,\n",
    "                                                          dolines=False, dopseudo=False)"
   ]
  },
  {
   "cell_type": "markdown",
   "id": "cb4a6d31",
   "metadata": {},
   "source": [
    "## Calculating the X-ray profiles"
   ]
  },
  {
   "cell_type": "code",
   "execution_count": 30,
   "id": "5546984e",
   "metadata": {},
   "outputs": [],
   "source": [
    "a = 1.\n",
    "x = np.geomspace(0.001, 5, 128)\n",
    "M = 1e14\n",
    "\n",
    "r200 = mdef.get_radius(cosmo, M, a) / a\n",
    "r = r200*x\n",
    "\n",
    "# Battaglia\n",
    "\n",
    "density_bg = rx.HaloProfileDensityBattaglia(mass_def=mdef, kind='n_total')\n",
    "\n",
    "pressure_bg = rx.HaloProfilePressureBattaglia(mass_def=mdef, kind='n_total', kind_P='n_total')\n",
    "\n",
    "x_bg = rx.HaloProfileXray(mass_def=mdef, J=J_tot, dens=density_bg, pres=pressure_bg,\n",
    "                          fourier_approx=False,\n",
    "                          with_clumping=True)\n",
    "\n",
    "\n",
    "# Hydrostatic Equilibirum\n",
    "\n",
    "density_he = rx.HaloProfileDensityHE(mass_def=mdef,\n",
    "                                     concentration=cM,\n",
    "                                     kind='n_total')\n",
    "pressure_he = rx.HaloProfilePressureHE(mass_def=mdef,\n",
    "                                       concentration=cM,\n",
    "                                       kind='n_total')\n",
    "x_he = rx.HaloProfileXray(mass_def=mdef,\n",
    "                          J=J_tot,\n",
    "                          dens=density_he,\n",
    "                          pres=pressure_he,\n",
    "                          fourier_approx=False,\n",
    "                          with_clumping=True)\n",
    "x_he_cont = rx.HaloProfileXray(mass_def=mdef,\n",
    "                          J=J_cont,\n",
    "                          dens=density_he,\n",
    "                          pres=pressure_he,\n",
    "                          fourier_approx=False,\n",
    "                          with_clumping=True)"
   ]
  },
  {
   "cell_type": "markdown",
   "id": "e5790081",
   "metadata": {},
   "source": [
    "## Calculating the $P(k)$s and $C_\\ell$s"
   ]
  },
  {
   "cell_type": "code",
   "execution_count": 31,
   "id": "683741e0",
   "metadata": {},
   "outputs": [],
   "source": [
    "k_arr = np.geomspace(1e-4,1e2,256)\n",
    "a_arr = np.linspace(0.3,1,8)\n",
    "\n",
    "ls = np.unique(np.geomspace(2, 3100, 128).astype(int)).astype(float)\n",
    "\n",
    "# Battaglia\n",
    "pk_bg = ccl.halos.halomod_Pk2D(cosmo, hmc, dmat, prof2=x_bg,\n",
    "                               lk_arr=np.log(k_arr), a_arr=a_arr)\n",
    "cl_bg = ccl.angular_cl(cosmo, ts, tx, ls, p_of_k_a=pk_bg)\n",
    "\n",
    "# Hydrostatic Equilibirum\n",
    "pk_he = ccl.halos.halomod_Pk2D(cosmo, hmc, dmat, prof2=x_he,\n",
    "                               lk_arr=np.log(k_arr), a_arr=a_arr)\n",
    "cl_he = ccl.angular_cl(cosmo, ts, tx, ls, p_of_k_a=pk_he)\n",
    "\n",
    "pk_he_cont = ccl.halos.halomod_Pk2D(cosmo, hmc, dmat, prof2=x_he_cont,\n",
    "                               lk_arr=np.log(k_arr), a_arr=a_arr)\n",
    "cl_he_cont = ccl.angular_cl(cosmo, ts, tx, ls, p_of_k_a=pk_he_cont)\n",
    "\n",
    "# NFW\n",
    "#pk_nfw = ccl.halos.halomod_Pk2D(cosmo, hmc, dmat, prof2=x_nfw,\n",
    "#                               lk_arr=np.log(k_arr), a_arr=a_arr)\n",
    "#cl_nfw = ccl.angular_cl(cosmo, ts, tx, ls, p_of_k_a=pk_nfw)\n",
    "\n",
    "\n",
    "# Add smoothing\n",
    "cl_bg *= cl_smoothing_factor(ls)\n",
    "cl_he *= cl_smoothing_factor(ls)\n",
    "cl_he_cont *= cl_smoothing_factor(ls)\n",
    "#cl_nfw *= cl_smoothing_factor(ls)"
   ]
  },
  {
   "cell_type": "markdown",
   "id": "2eb5b836",
   "metadata": {},
   "source": [
    "## Plots"
   ]
  },
  {
   "cell_type": "code",
   "execution_count": 32,
   "id": "a641885e",
   "metadata": {},
   "outputs": [
    {
     "data": {
      "image/png": "[encoded data removed]",
      "text/plain": [
       "<Figure size 640x480 with 1 Axes>"
      ]
     },
     "metadata": {},
     "output_type": "display_data"
    }
   ],
   "source": [
    "plt.plot(ls, cl_bg, 'r', label='Battaglia profile')\n",
    "plt.plot(ls, cl_he, 'b', label='Hydrostatic equilibrium profile')\n",
    "#plt.plot(ls, cl_nfw, 'g', label='NFW')\n",
    "plt.errorbar(ROSAT, DESY3wl__3, yerr=err, fmt='k.')\n",
    "plt.loglog()\n",
    "plt.xlabel(r'$\\ell$', fontsize=15)\n",
    "plt.ylabel(r'$C_\\ell$', fontsize=15)\n",
    "plt.ylim([1.2e-6, 1.5e-3])\n",
    "plt.xlim([50, 2100])\n",
    "\n",
    "plt.legend();\n",
    "\n",
    "plt.savefig('Plots/Cls_Battaglia_Comparison.pdf');"
   ]
  },
  {
   "cell_type": "code",
   "execution_count": 33,
   "id": "9d5d2de8",
   "metadata": {},
   "outputs": [
    {
     "data": {
      "image/png": "[encoded data removed]",
      "text/plain": [
       "<Figure size 640x480 with 1 Axes>"
      ]
     },
     "metadata": {},
     "output_type": "display_data"
    }
   ],
   "source": [
    "plt.plot(ls, cl_he, color=plt.cm.winter(0), label='Total')\n",
    "plt.plot(ls, cl_he_cont, color=plt.cm.winter(0), linestyle='--', label='Continuum only')\n",
    "plt.errorbar(ROSAT, DESY3wl__3, yerr=err, fmt='k.')\n",
    "plt.loglog()\n",
    "plt.xlabel(r'$\\ell$', fontsize=15)\n",
    "plt.ylabel(r'$C_\\ell$', fontsize=15)\n",
    "plt.ylim([1.2e-6, 1.5e-3])\n",
    "plt.xlim([50, 2100])\n",
    "\n",
    "plt.legend();\n",
    "\n",
    "plt.savefig('Plots/Cls_HE_Comparison.pdf');"
   ]
  }
 ],
 "metadata": {
  "kernelspec": {
   "display_name": "Python 3 (ipykernel)",
   "language": "python",
   "name": "python3"
  },
  "language_info": {
   "codemirror_mode": {
    "name": "ipython",
    "version": 3
   },
   "file_extension": ".py",
   "mimetype": "text/x-python",
   "name": "python",
   "nbconvert_exporter": "python",
   "pygments_lexer": "ipython3",
   "version": "3.10.4"
  }
 },
 "nbformat": 4,
 "nbformat_minor": 5
}
