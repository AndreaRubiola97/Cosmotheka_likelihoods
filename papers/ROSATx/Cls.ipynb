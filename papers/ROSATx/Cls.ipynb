{
 "cells": [
  {
   "cell_type": "code",
   "execution_count": 1,
   "id": "f81392a5",
   "metadata": {},
   "outputs": [],
   "source": [
    "import sacc\n",
    "import numpy as np\n",
    "import pyccl as ccl\n",
    "import rosatX as rx\n",
    "import pyatomdb\n",
    "from astropy.io import fits\n",
    "import matplotlib.pyplot as plt\n",
    "from matplotlib import rc\n",
    "rc('font', **{'family': 'sans-serif', 'sans-serif': ['Helvetica']})\n",
    "rc('text', usetex=True)"
   ]
  },
  {
   "cell_type": "markdown",
   "id": "3a639dca",
   "metadata": {},
   "source": [
    "## Loading the data"
   ]
  },
  {
   "cell_type": "code",
   "execution_count": 2,
   "id": "70d9b6dd",
   "metadata": {},
   "outputs": [],
   "source": [
    "rmf = fits.open('data/pspcb_gain2_256.rmf')\n",
    "arf = fits.open('data/pspcb_gain2_256.arf')\n",
    "cls_cov = sacc.Sacc.load_fits('data/cls_cov.fits')\n",
    "\n",
    "ROSAT, DESY1wl__2, cov = cls_cov.get_ell_cl('cl_0e','ROSAT', 'DESY1wl__2', return_cov=True)\n",
    "err = np.sqrt(np.diagonal(cov))"
   ]
  },
  {
   "cell_type": "markdown",
   "id": "4b32fae5",
   "metadata": {},
   "source": [
    "## Initialising defaults and tracers"
   ]
  },
  {
   "cell_type": "code",
   "execution_count": 3,
   "id": "914b99e6",
   "metadata": {},
   "outputs": [],
   "source": [
    "cosmo = ccl.CosmologyVanillaLCDM()\n",
    "mdef = ccl.halos.MassDef200c()\n",
    "cM = ccl.halos.ConcentrationDuffy08(mdef=mdef)\n",
    "\n",
    "dmat = ccl.halos.HaloProfileNFW(cM)\n",
    "\n",
    "nM = ccl.halos.MassFuncTinker08(cosmo, mdef)\n",
    "bM = ccl.halos.HaloBiasTinker10(cosmo, mdef)\n",
    "hmc = ccl.halos.HMCalculator(cosmo, nM, bM, mdef, log10M_max=15., log10M_min=10, nlog10M=32)\n",
    "\n",
    "# X-ray tracer\n",
    "tx = rx.XrayTracer(cosmo)\n",
    "\n",
    "zs = cls_cov.tracers['DESY1wl__2'].z\n",
    "nz = cls_cov.tracers['DESY1wl__2'].nz\n",
    "\n",
    "# gamma tracer\n",
    "ts = ccl.WeakLensingTracer(cosmo, dndz=(zs, nz))"
   ]
  },
  {
   "cell_type": "markdown",
   "id": "2687117d",
   "metadata": {},
   "source": [
    "## Calculating the X-ray Spectrum"
   ]
  },
  {
   "cell_type": "code",
   "execution_count": 4,
   "id": "4ec45282",
   "metadata": {},
   "outputs": [],
   "source": [
    "kTmin = 0.02\n",
    "kTmax = 50.0\n",
    "nkT = 32\n",
    "zmax = 4.0\n",
    "nz = 16\n",
    "emin = 0.5\n",
    "emax = 2.0\n",
    "\n",
    "rosat_spectrum = pyatomdb.spectrum.CIESession()\n",
    "rosat_spectrum.set_response(rmf, arf)\n",
    "rosat_spectrum.set_abund(26,0.3)\n",
    "\n",
    "J_tot = rosat_spectrum.return_integrated_spectrum_interp(kTmin, kTmax, nkT, zmax, nz, emin, emax)\n",
    "J_cont = rosat_spectrum.return_integrated_spectrum_interp(kTmin, kTmax, nkT, zmax, nz, emin, emax,\n",
    "                                              dolines=False, dopseudo=False)"
   ]
  },
  {
   "cell_type": "markdown",
   "id": "cb4a6d31",
   "metadata": {},
   "source": [
    "## Calculating the X-ray profiles"
   ]
  },
  {
   "cell_type": "code",
   "execution_count": 12,
   "id": "5546984e",
   "metadata": {},
   "outputs": [],
   "source": [
    "a = 1.\n",
    "x = np.geomspace(0.001, 5, 128)\n",
    "M = 1e14\n",
    "\n",
    "r200 = mdef.get_radius(cosmo, M, a) / a\n",
    "r = r200*x\n",
    "\n",
    "# Battaglia\n",
    "\n",
    "pressure_bg = rx.HaloProfilePressureBattaglia(kind='P_total')\n",
    "density_bg = rx.HaloProfileDensityBattaglia(kind='n_total')\n",
    "\n",
    "xtot_bg = rx.HaloProfileXray(J_tot, dens=density_bg, pres=pressure_bg)\n",
    "x_bg = xtot_bg.real(cosmo, r, M, a, mdef)\n",
    "\n",
    "\n",
    "# Hydrostatic Equilibirum\n",
    "\n",
    "density_he = rx.HaloProfileDensityHydrostaticEquilibrium(kind='n_total')\n",
    "temperature_he = rx.HaloProfileTemperatureHydrostaticEquilibrium(kind='T_total')\n",
    "\n",
    "xtot_he = rx.HaloProfileXray(J_tot, dens=density_he, temp=temperature_he)\n",
    "x_he = xtot_he.real(cosmo, r, M, a, mdef)\n",
    "\n",
    "\n",
    "# NFW\n",
    "\n",
    "density_nfw = rx.HaloProfileDensityNFW(cM, truncated=False, kind='n_total')\n",
    "temperature_sl = rx.HaloProfileTemperatureSpectroscopicLike()\n",
    "\n",
    "xtot_nfw = rx.HaloProfileXray(J_tot, dens=density_nfw, temp=temperature_sl)\n",
    "x_nfw = xtot_nfw.real(cosmo, r, M, a, mdef)"
   ]
  },
  {
   "cell_type": "markdown",
   "id": "e5790081",
   "metadata": {},
   "source": [
    "## Calculating the $P(k)$s and $C_\\ell$s"
   ]
  },
  {
   "cell_type": "code",
   "execution_count": 17,
   "id": "683741e0",
   "metadata": {},
   "outputs": [],
   "source": [
    "k_arr = np.geomspace(1e-4,1e2,256)\n",
    "a_arr = np.linspace(0.3,1,8)\n",
    "\n",
    "ls = np.unique(np.geomspace(2, 3100, 128).astype(int)).astype(float)\n",
    "\n",
    "# Battaglia\n",
    "pk_bg = ccl.halos.halomod_Pk2D(cosmo, hmc, dmat,\n",
    "                               normprof1=True, prof2=xtot_bg, normprof2=False,\n",
    "                               lk_arr=np.log(k_arr), a_arr=a_arr)\n",
    "cl_bg = ccl.angular_cl(cosmo, ts, tx, ls, p_of_k_a=pk_bg)\n",
    "\n",
    "# Hydrostatic Equilibirum\n",
    "pk_he = ccl.halos.halomod_Pk2D(cosmo, hmc, dmat,\n",
    "                               normprof1=True, prof2=xtot_he, normprof2=False,\n",
    "                               lk_arr=np.log(k_arr), a_arr=a_arr)\n",
    "cl_he = ccl.angular_cl(cosmo, ts, tx, ls, p_of_k_a=pk_he)\n",
    "\n",
    "# NFW\n",
    "pk_nfw = ccl.halos.halomod_Pk2D(cosmo, hmc, dmat,\n",
    "                               normprof1=True, prof2=xtot_nfw, normprof2=False,\n",
    "                               lk_arr=np.log(k_arr), a_arr=a_arr)\n",
    "cl_nfw = ccl.angular_cl(cosmo, ts, tx, ls, p_of_k_a=pk_nfw)"
   ]
  },
  {
   "cell_type": "markdown",
   "id": "8a499687",
   "metadata": {},
   "source": [
    "### Correcting for the smoothing"
   ]
  },
  {
   "cell_type": "code",
   "execution_count": 18,
   "id": "184285c1",
   "metadata": {},
   "outputs": [],
   "source": [
    "def pixel_FWHM(nside):\n",
    "    \"\"\"\n",
    "    Returns the FWHM of the HEALPix pixel with nside = nside\n",
    "    \"\"\"\n",
    "    fwhm_hp_amin =  60 * 41.7 / nside\n",
    "    return np.radians(fwhm_hp_amin/60)/2.355\n",
    "\n",
    "sigma_ROSAT = np.radians(1.8e0/60)/2.355\n",
    "sigma_HEALPix = pixel_FWHM(1024)\n",
    "\n",
    "sigma_tot_2 = sigma_ROSAT**2 + 2*sigma_HEALPix**2\n",
    "\n",
    "def cl_smoothing_factor(ell):\n",
    "    return np.exp(-0.5*sigma_tot_2*ell*(1+ell))\n",
    "\n",
    "cl_bg *= cl_smoothing_factor(ls)\n",
    "cl_he *= cl_smoothing_factor(ls)\n",
    "cl_nfw *= cl_smoothing_factor(ls)"
   ]
  },
  {
   "cell_type": "markdown",
   "id": "2eb5b836",
   "metadata": {},
   "source": [
    "## Plots"
   ]
  },
  {
   "cell_type": "code",
   "execution_count": 20,
   "id": "a641885e",
   "metadata": {},
   "outputs": [
    {
     "data": {
      "image/png": "[encoded data removed]",
      "text/plain": [
       "<Figure size 640x480 with 1 Axes>"
      ]
     },
     "metadata": {},
     "output_type": "display_data"
    }
   ],
   "source": [
    "plt.plot(ls, cl_bg, 'r', label='Battaglia profile')\n",
    "plt.plot(ls, cl_he, 'b', label='Hydrostatic equilibrium profile')\n",
    "plt.plot(ls, cl_nfw, 'g', label='Simple profile')\n",
    "plt.errorbar(ROSAT, DESY1wl__2, yerr=err, fmt='k.')\n",
    "plt.loglog()\n",
    "plt.xlabel(r'$\\ell$', fontsize=15)\n",
    "plt.ylabel(r'$C_\\ell$', fontsize=15)\n",
    "\n",
    "plt.legend();\n",
    "\n",
    "plt.savefig('Plots/Cls_comparison.pdf');"
   ]
  },
  {
   "cell_type": "code",
   "execution_count": null,
   "id": "9dd4e08a",
   "metadata": {},
   "outputs": [],
   "source": []
  }
 ],
 "metadata": {
  "kernelspec": {
   "display_name": "Python 3 (ipykernel)",
   "language": "python",
   "name": "python3"
  },
  "language_info": {
   "codemirror_mode": {
    "name": "ipython",
    "version": 3
   },
   "file_extension": ".py",
   "mimetype": "text/x-python",
   "name": "python",
   "nbconvert_exporter": "python",
   "pygments_lexer": "ipython3",
   "version": "3.10.4"
  }
 },
 "nbformat": 4,
 "nbformat_minor": 5
}
